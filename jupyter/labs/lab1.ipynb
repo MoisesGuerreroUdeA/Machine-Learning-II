{
 "cells": [
  {
   "cell_type": "markdown",
   "metadata": {},
   "source": [
    "# Lab 1 - Dimensionality Reduction\n",
    "## Machine Learning II\n",
    "\n",
    "Moisés Alfonso Guerrero Jiménez"
   ]
  },
  {
   "cell_type": "code",
   "execution_count": 9,
   "metadata": {},
   "outputs": [],
   "source": [
    "# Modules\n",
    "import numpy as np"
   ]
  },
  {
   "cell_type": "markdown",
   "metadata": {},
   "source": [
    "### Workshop I\n",
    "1. Simulate a random rectangular matrix A\n",
    "    - What is the rank and trace of A?\n",
    "    - What is the determinant of A?\n",
    "    - Can you invert A? How?\n",
    "    - How are eigenvalues and eigenvectors of A'A and AA' related? What interesting differences can you notice between both?\n",
    "    - See [https://sites.cs.ucsb.edu/~mturk/Papers/jcn.pdf](https://sites.cs.ucsb.edu/~mturk/Papers/jcn.pdf)"
   ]
  },
  {
   "cell_type": "markdown",
   "metadata": {},
   "source": [
    "**R/** For simulating a rectangular matrix $A$ with dimensions $m\\times n$ we could specify inputs for dimensions $m$ and $n$. For this exercise, I will simulate matrix $A$ only with integer values by using `numpy.random.randint()`, that lets us to set lower and higher integers to include in the matrix and its size $m\\times n$."
   ]
  },
  {
   "cell_type": "code",
   "execution_count": 21,
   "metadata": {},
   "outputs": [
    {
     "name": "stdout",
     "output_type": "stream",
     "text": [
      "Generating matrix A_7x5 with integer values between -10 and 15...\n",
      "A = \n",
      "[[  5   9  -4  11   2]\n",
      " [ 10  14   5   7  13]\n",
      " [ -1   1   2  12  14]\n",
      " [  6  -5   6  -1  12]\n",
      " [  5   8   6   2  -5]\n",
      " [ -8  -4  -7  -3   1]\n",
      " [-10  -1   1   6  -7]]\n"
     ]
    }
   ],
   "source": [
    "# 1. Random matrix simulation\n",
    "low = int(input(\"Lowest integer of the matrix: \"))\n",
    "high = int(input(\"Highest integer of the matrix: \"))\n",
    "m = int(input(\"Number of rows: \"))\n",
    "n = int(input(\"Number of columns: \"))\n",
    "np.random.seed(seed=1234) # Optional: Configuring seed for pseudo-random generation\n",
    "A = np.random.randint(low=low, high=high, size=(m, n))\n",
    "print(f\"Generating matrix A_{m}x{n} with integer values between {low} and {high}...\")\n",
    "print(f\"A = \\n{A}\")"
   ]
  },
  {
   "cell_type": "markdown",
   "metadata": {},
   "source": [
    "Rank is defined as the number of linearly independent columns of a matrix $A \\in \\mathbb{R}^{m\\times n}$."
   ]
  },
  {
   "cell_type": "code",
   "execution_count": 22,
   "metadata": {},
   "outputs": [
    {
     "data": {
      "text/plain": [
       "5"
      ]
     },
     "execution_count": 22,
     "metadata": {},
     "output_type": "execute_result"
    }
   ],
   "source": [
    "# Rank and trace of A\n",
    "np.linalg.matrix_rank(A)"
   ]
  }
 ],
 "metadata": {
  "kernelspec": {
   "display_name": "Python 3",
   "language": "python",
   "name": "python3"
  },
  "language_info": {
   "codemirror_mode": {
    "name": "ipython",
    "version": 3
   },
   "file_extension": ".py",
   "mimetype": "text/x-python",
   "name": "python",
   "nbconvert_exporter": "python",
   "pygments_lexer": "ipython3",
   "version": "3.10.12"
  }
 },
 "nbformat": 4,
 "nbformat_minor": 2
}
